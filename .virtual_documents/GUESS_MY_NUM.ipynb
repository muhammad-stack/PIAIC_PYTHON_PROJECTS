             # 01234
text: str = 'Hello'
            # -5-4-3-2-1
text[4:0:-1]



