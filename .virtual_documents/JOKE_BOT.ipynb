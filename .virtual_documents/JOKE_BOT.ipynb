user_input :str  = input("What do you want ??").strip().lower()
print(user_input)
if (user_input == "joke"):
    print("Here is a joke for you! Panaversity GPT - Sophia is heading out to the grocery store. A programmer tells her: get a liter of milk, and if they have eggs, get 12. Sophia returns with 13 liters of milk. The programmer asks why and Sophia replies: 'because they had eggs'")
print("Sorry I only tell jokes")



