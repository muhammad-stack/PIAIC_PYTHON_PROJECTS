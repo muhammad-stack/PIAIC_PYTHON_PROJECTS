print("The call for a spaceship is about to launch !")

list_of_num = list(range(10,0,-1))
for  i in list_of_num:
    print(i ,end=" ")
print("LiftOff")



