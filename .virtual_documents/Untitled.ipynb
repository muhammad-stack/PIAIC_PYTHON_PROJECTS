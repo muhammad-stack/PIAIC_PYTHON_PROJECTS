import random

rand_num: int = random.randomint()

for i in range(0 , rand_num):
    print(i)



