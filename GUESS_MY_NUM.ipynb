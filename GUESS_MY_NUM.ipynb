{
 "cells": [
  {
   "cell_type": "code",
   "execution_count": 3,
   "id": "c3da00bd-a7d5-4ea3-a720-1fed9c893e6e",
   "metadata": {},
   "outputs": [
    {
     "name": "stdout",
     "output_type": "stream",
     "text": [
      "I am thinking of a number between 0 and 99...\n"
     ]
    },
    {
     "name": "stdin",
     "output_type": "stream",
     "text": [
      "Enter a guess b/w 1 to 10 2\n"
     ]
    },
    {
     "name": "stdout",
     "output_type": "stream",
     "text": [
      "This much attempts left4\n",
      "Your input is a bit low\n"
     ]
    },
    {
     "name": "stdin",
     "output_type": "stream",
     "text": [
      "Enter a guess b/w 1 to 10 9\n"
     ]
    },
    {
     "name": "stdout",
     "output_type": "stream",
     "text": [
      "This much attempts left3\n",
      "Your input is a bit high\n"
     ]
    },
    {
     "name": "stdin",
     "output_type": "stream",
     "text": [
      "Enter a guess b/w 1 to 10 8\n"
     ]
    },
    {
     "name": "stdout",
     "output_type": "stream",
     "text": [
      "This much attempts left2\n",
      "Your input is a bit high\n"
     ]
    },
    {
     "name": "stdin",
     "output_type": "stream",
     "text": [
      "Enter a guess b/w 1 to 10 7\n"
     ]
    },
    {
     "name": "stdout",
     "output_type": "stream",
     "text": [
      "This much attempts left1\n",
      "Your input is a bit high\n"
     ]
    },
    {
     "name": "stdin",
     "output_type": "stream",
     "text": [
      "Enter a guess b/w 1 to 10 6\n"
     ]
    },
    {
     "name": "stdout",
     "output_type": "stream",
     "text": [
      "This much attempts left0\n",
      "Your guess is correct6\n"
     ]
    }
   ],
   "source": [
    "import random\n",
    "secret_num: int = random.randint(1,10)\n",
    "print('I am thinking of a number between 0 and 99...')\n",
    "\n",
    "user_attempts : int = 0\n",
    "allowed_attempts = 5\n",
    "\n",
    "while user_attempts <  allowed_attempts:\n",
    "    user_input : int = int(input(\"Enter a guess b/w 1 to 10\"))\n",
    "    user_attempts+=1\n",
    "    print(f\"This much attempts left {allowed_attempts - user_attempts}\")\n",
    "    if user_input < secret_num:\n",
    "        print(\"Your input is a bit low\")\n",
    "        \n",
    "    elif user_input > secret_num:\n",
    "        print(\"Your input is a bit high\")\n",
    "    else:\n",
    "        print(f\"Your guess is correct{user_input}\")\n",
    "        break"
   ]
  },
  {
   "cell_type": "code",
   "execution_count": null,
   "id": "41be9ef0-ce78-4ed9-8cf8-6ad72d6079db",
   "metadata": {},
   "outputs": [],
   "source": []
  }
 ],
 "metadata": {
  "kernelspec": {
   "display_name": "Python 3 (ipykernel)",
   "language": "python",
   "name": "python3"
  },
  "language_info": {
   "codemirror_mode": {
    "name": "ipython",
    "version": 3
   },
   "file_extension": ".py",
   "mimetype": "text/x-python",
   "name": "python",
   "nbconvert_exporter": "python",
   "pygments_lexer": "ipython3",
   "version": "3.12.7"
  }
 },
 "nbformat": 4,
 "nbformat_minor": 5
}
