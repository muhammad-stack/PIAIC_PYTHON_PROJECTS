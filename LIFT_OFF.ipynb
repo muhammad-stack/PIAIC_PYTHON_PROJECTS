{
 "cells": [
  {
   "cell_type": "code",
   "execution_count": 24,
   "id": "425bbff6-6e62-4eda-85ef-e31039c6e050",
   "metadata": {},
   "outputs": [
    {
     "name": "stdout",
     "output_type": "stream",
     "text": [
      "The call for a spaceship is about to launch !\n",
      "10 9 8 7 6 5 4 3 2 1 LiftOff\n"
     ]
    }
   ],
   "source": [
    "print(\"The call for a spaceship is about to launch !\")\n",
    "\n",
    "list_of_num = list(range(10,0,-1))\n",
    "for  i in list_of_num:\n",
    "    print(i ,end=\" \")\n",
    "print(\"LiftOff\")"
   ]
  },
  {
   "cell_type": "code",
   "execution_count": null,
   "id": "70c41163-53c9-4ab5-bda2-11c3fc0d81a7",
   "metadata": {},
   "outputs": [],
   "source": []
  }
 ],
 "metadata": {
  "kernelspec": {
   "display_name": "Python 3 (ipykernel)",
   "language": "python",
   "name": "python3"
  },
  "language_info": {
   "codemirror_mode": {
    "name": "ipython",
    "version": 3
   },
   "file_extension": ".py",
   "mimetype": "text/x-python",
   "name": "python",
   "nbconvert_exporter": "python",
   "pygments_lexer": "ipython3",
   "version": "3.12.7"
  }
 },
 "nbformat": 4,
 "nbformat_minor": 5
}
